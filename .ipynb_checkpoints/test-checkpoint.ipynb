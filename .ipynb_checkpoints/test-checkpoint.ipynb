{
 "cells": [
  {
   "cell_type": "code",
   "execution_count": 1,
   "metadata": {
    "collapsed": false
   },
   "outputs": [],
   "source": [
    "import os\n",
    "import sys\n",
    "import math\n",
    "import argparse\n",
    "import config\n",
    "import shutil\n",
    "from database import session\n",
    "import sqlalchemy\n",
    "import random\n",
    "import models\n",
    "from models import *\n",
    "import cStringIO\n",
    "from PIL import Image, ImageDraw, ImageFont"
   ]
  },
  {
   "cell_type": "code",
   "execution_count": 5,
   "metadata": {
    "collapsed": false
   },
   "outputs": [
    {
     "name": "stdout",
     "output_type": "stream",
     "text": [
      "12346\n"
     ]
    }
   ],
   "source": [
    "video_id = 'video3_00104'\n",
    "\n",
    "video = session.query(Video).filter(Video.slug == video_id)\n",
    "if video.count() == 0:\n",
    "    print \"Video {0} does not exist!\".format(video_id)\n",
    "    raise SystemExit()\n",
    "video = video.one()\n",
    "print video.id"
   ]
  },
  {
   "cell_type": "code",
   "execution_count": 7,
   "metadata": {
    "collapsed": false
   },
   "outputs": [],
   "source": [
    "def make_same_boxes(video_slug, x1, y1, x2, y2):\n",
    "    video = session.query(Video).filter(Video.slug == video_slug)\n",
    "    if video.count() == 0:\n",
    "        print \"Video {0} does not exist!\".format(video_id)\n",
    "        raise SystemExit()\n",
    "    video = video.one()\n",
    "    \n",
    "    for segment in video.segments:\n",
    "        for job in segment.jobs:\n",
    "            for path in job.paths:\n",
    "                for box in path.boxes:\n",
    "                    box.xtl = x1\n",
    "                    box.ytl = y1\n",
    "                    box.xbr = x2\n",
    "                    box.ybr = y2\n",
    "    session.commit()"
   ]
  },
  {
   "cell_type": "code",
   "execution_count": 6,
   "metadata": {
    "collapsed": false
   },
   "outputs": [
    {
     "name": "stdout",
     "output_type": "stream",
     "text": [
      "50\n",
      "False\n",
      "50\n",
      "False\n",
      "50\n",
      "False\n",
      "50\n",
      "False\n",
      "50\n",
      "False\n",
      "50\n",
      "False\n",
      "50\n",
      "False\n",
      "50\n",
      "False\n",
      "50\n",
      "False\n",
      "50\n",
      "False\n",
      "50\n",
      "False\n",
      "50\n",
      "False\n",
      "50\n",
      "False\n",
      "50\n",
      "False\n",
      "50\n",
      "False\n",
      "50\n",
      "False\n",
      "50\n",
      "False\n",
      "50\n",
      "False\n",
      "50\n",
      "False\n",
      "50\n",
      "False\n",
      "50\n",
      "False\n",
      "50\n",
      "False\n",
      "50\n",
      "False\n",
      "50\n",
      "False\n",
      "50\n",
      "False\n",
      "50\n",
      "False\n",
      "50\n",
      "False\n",
      "50\n",
      "False\n",
      "50\n",
      "False\n"
     ]
    }
   ],
   "source": [
    "make_same_boxes('video3_00104', 20, 20, 200, 200)"
   ]
  },
  {
   "cell_type": "code",
   "execution_count": null,
   "metadata": {
    "collapsed": true
   },
   "outputs": [],
   "source": []
  }
 ],
 "metadata": {
  "kernelspec": {
   "display_name": "Python [Root]",
   "language": "python",
   "name": "Python [Root]"
  },
  "language_info": {
   "codemirror_mode": {
    "name": "ipython",
    "version": 2
   },
   "file_extension": ".py",
   "mimetype": "text/x-python",
   "name": "python",
   "nbconvert_exporter": "python",
   "pygments_lexer": "ipython2",
   "version": "2.7.12"
  }
 },
 "nbformat": 4,
 "nbformat_minor": 0
}
